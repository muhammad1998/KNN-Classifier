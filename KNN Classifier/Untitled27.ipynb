{
 "cells": [
  {
   "cell_type": "code",
   "execution_count": 34,
   "metadata": {},
   "outputs": [
    {
     "name": "stdout",
     "output_type": "stream",
     "text": [
      "(331, 6)\n",
      "[1 0 0 0 1 1 1 1 0 0 1 1 0 0 1 0 0 0 1 1 0 1 0 1 0 0 0 0 0 0 1 0 0 0 0 0 1\n",
      " 1 0 0 0 0 0 1 0 0 0 0 1 1 0 0 0 1 1 1 1 0 1 1 0 1 1 0 1 1 0 0 0 0 0 0 0 1\n",
      " 1 0 1 1 1 0 1 1 1 1 1 1 1 0 1 1 1 0 1 1 0 0 0 1 0 1 1 1 1 1 1 1 0 1 1 0 0\n",
      " 0 0 1 1 1 0 1 1 0 1 1 1 0 1 0 1 1 1 0 1 0 1 1 0 0 1 1 1 0 0 1 1 1 1 0 0 1\n",
      " 1 0 1 0 0 0 0 1 0 0 1 1 1 0 1 0 1 1 0 0 0 1 0 1 1 1 0 1 0 1 1 1 0 1 0 1 1\n",
      " 0 0 0 0 1 1 1 0 0 1 0 1 0 1 1 0 1 1 1 0 0 1 0 0 1 1 0 1 1 1 1 1 1 0 1 1 0\n",
      " 0 1 0 0 0 0 0 1 1 1 0 1 0 1 1 0 0 1 1 0 0 0 1 1 1 1 0 1 0 1 1 0 1 0 1 1 0\n",
      " 1 0 1 1 1 1 0 1 1 0 1 1 0 1 0 0 1 0 1 0 1 0 1 0 1 1 0 1 1 1 1 1 1 0 0 0 0\n",
      " 1 1 1 0 0 1 0 1 1 0 1 0 1 1 1 1 1 0 0 0 1 0 1 1 1 0 1 1 0 0 0 1 1 0 1]\n",
      "[1 0 1 1 0 0 0 0 0 0 1 0 0 0 0 0 0 0 1 0 0 0 0 0 0 0 0 0 0 0 0 1 0 1 0 0 1\n",
      " 1 0 0 0 0 0 0 0 0 1 0 1 0 0 0 0 1 1 0 1 0 1 0 1 0 1 1 0 0 0 0 0 0 0 0 0 0\n",
      " 0 0 0 0 0 0 0 1 1 0 0 1 0 1 0 0 0 1 1 0 0 1 0 1 0 0 0 1 1 0 0 0 0 0 0 0 1\n",
      " 0 0 0 0 1 0 0 1 0 1 0 0 0 1 0 0 0 0 0 0 0 0 0 0 0 0 0 0 1 1 0 1]\n",
      "[1 0 0 0 1 1 1 1 0 0 1 1 0 0 1 0 0 0 1 1 0 1 0 1 0 0 0 0 0 0 1 0 0 0 0 0 1\n",
      " 1 0 0 0 0 0 1 0 0 0 0 1 1 0 0 0 1 1 1 1 0 1 1 0 1 1 0 1 1 0 0 0 0 0 0 0 1\n",
      " 1 0 1 1 1 0 1 1 1 1 1 1 1 0 1 1 1 0 1 1 0 0 0 1 0 1 1 1 1 1 1 1 0 1 1 0 0\n",
      " 0 0 1 1 1 0 1 1 0 1 1 1 0 1 0 1 1 1 0 1 0 1 1 0 0 1 1 1 0 0 1 1 1 1 0 0 1\n",
      " 1 0 1 0 0 0 0 1 0 0 1 1 1 0 1 0 1 1 0 0 0 1 0 1 1 1 0 1 0 1 1 1 0 1 0 1 1\n",
      " 0 0 0 0 1 1 1 0 0 1 0 1 0 1 1 0 1 1 1 0 0 1 0 0 1 1 0 1 1 1 1 1 1 0 1 1 0\n",
      " 0 1 0 0 0 0 0 1 1 1 0 1 0 1 1 0 0 1 1 0 0 0 1 1 1 1 0 1 0 1 1 0 1 0 1 1 0\n",
      " 1 0 1 1 1 1 0 1 1 0 1 1 0 1 0 0 1 0 1 0 1 0 1 0 1 1 0 1 1 1 1 1 1 0 0 0 0\n",
      " 1 1 1 0 0 1 0 1 1 0 1 0 1 1 1 1 1 0 0 0 1 0 1 1 1 0 1 1 0 0 0 1 1 0 1]\n",
      "accuracy score 0.6573426573426573\n"
     ]
    }
   ],
   "source": [
    "import numpy as np\n",
    "import pandas as pd\n",
    "from sklearn.preprocessing import MinMaxScaler\n",
    "from sklearn.metrics import accuracy_score\n",
    "from sklearn.preprocessing import LabelEncoder\n",
    "from sklearn.preprocessing import Imputer\n",
    "from sklearn.model_selection import train_test_split\n",
    "from sklearn.naive_bayes import GaussianNB\n",
    "\n",
    "ds = pd.read_excel(\"Employee data.xlsx\")\n",
    "#print(ds)\n",
    "x=ds.iloc[:,1:7].values\n",
    "y=ds.iloc[:,0].values\n",
    "coder = LabelEncoder()\n",
    "#y=y.reshape(-1,1)\n",
    "y = coder.fit_transform(y)\n",
    "#y=y.reshape(-1,1)\n",
    "imp = Imputer(missing_values=np.nan,strategy=\"mean\")\n",
    "#x[:,0:1] = imp.fit_transform(x[:,0:1])\n",
    "#print(x[:,0:1])\n",
    "#x[:,1:2] = imp.fit_transform(x[:,1:2])\n",
    "x=imp.fit_transform(x)\n",
    "m = MinMaxScaler()\n",
    "#x[:,2:3] = imp.fit_transform(x[:,2:3])\n",
    "x[:,2:3] = m.fit_transform(x[:,2:3])\n",
    "np.set_printoptions(precision=2)\n",
    "x[:,3:4] = m.fit_transform(x[:,3:4])\n",
    "np.set_printoptions(precision=2)\n",
    "x[:,4:5] = m.fit_transform(x[:,4:5])\n",
    "np.set_printoptions(precision=2)\n",
    "t_size = 0.30\n",
    "x_train,x_test,y_train,y_test = train_test_split(x,y,test_size=t_size)\n",
    "model = GaussianNB()\n",
    "print(x_train.shape)\n",
    "print(y_train)\n",
    "model.fit(x_train,y_train)\n",
    "result = model.predict(x_test)\n",
    "print(result)\n",
    "print(y_train)\n",
    "count =0\n",
    "num = accuracy_score(y_test,result)\n",
    "for i in range (0,len(result)):\n",
    "        if(y_test[i] == result[i] ):\n",
    "            count = count+1\n",
    "print(f\"accuracy score {num}\")        \n",
    "\n"
   ]
  },
  {
   "cell_type": "code",
   "execution_count": 35,
   "metadata": {},
   "outputs": [],
   "source": [
    "from sklearn.neighbors import KNeighborsClassifier\n",
    "kn = KNeighborsClassifier(n_neighbors=5)\n",
    "kn.fit(x_train,y_train)\n",
    "result = kn.predict(x_test)"
   ]
  },
  {
   "cell_type": "code",
   "execution_count": null,
   "metadata": {},
   "outputs": [],
   "source": []
  }
 ],
 "metadata": {
  "kernelspec": {
   "display_name": "Python 3",
   "language": "python",
   "name": "python3"
  },
  "language_info": {
   "codemirror_mode": {
    "name": "ipython",
    "version": 3
   },
   "file_extension": ".py",
   "mimetype": "text/x-python",
   "name": "python",
   "nbconvert_exporter": "python",
   "pygments_lexer": "ipython3",
   "version": "3.7.2"
  }
 },
 "nbformat": 4,
 "nbformat_minor": 2
}
